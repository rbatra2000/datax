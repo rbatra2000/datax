{
 "cells": [
  {
   "cell_type": "markdown",
   "id": "63f741cf",
   "metadata": {},
   "source": [
    "# New York City's Busiest Subway Stations"
   ]
  },
  {
   "cell_type": "markdown",
   "id": "3ea76bf3",
   "metadata": {},
   "source": [
    "Before running the next cell, install Folium (a map visualization package) by running the following command on terminal:\n",
    "\n",
    "conda install -c conda-forge folium\n"
   ]
  },
  {
   "cell_type": "code",
   "execution_count": 25,
   "id": "1d972198",
   "metadata": {},
   "outputs": [],
   "source": [
    "import numpy as np\n",
    "import pandas as pd\n",
    "import matplotlib.pyplot as plt\n",
    "import folium"
   ]
  },
  {
   "cell_type": "code",
   "execution_count": 5,
   "id": "be77585a",
   "metadata": {},
   "outputs": [
    {
     "data": {
      "text/html": [
       "<div>\n",
       "<style scoped>\n",
       "    .dataframe tbody tr th:only-of-type {\n",
       "        vertical-align: middle;\n",
       "    }\n",
       "\n",
       "    .dataframe tbody tr th {\n",
       "        vertical-align: top;\n",
       "    }\n",
       "\n",
       "    .dataframe thead th {\n",
       "        text-align: right;\n",
       "    }\n",
       "</style>\n",
       "<table border=\"1\" class=\"dataframe\">\n",
       "  <thead>\n",
       "    <tr style=\"text-align: right;\">\n",
       "      <th></th>\n",
       "      <th>Ranks</th>\n",
       "      <th>Station</th>\n",
       "      <th>Ridership</th>\n",
       "      <th>Latitude</th>\n",
       "      <th>Longitude</th>\n",
       "    </tr>\n",
       "  </thead>\n",
       "  <tbody>\n",
       "    <tr>\n",
       "      <th>0</th>\n",
       "      <td>1</td>\n",
       "      <td>Times Square - 42 Street</td>\n",
       "      <td>20341240</td>\n",
       "      <td>40.756048</td>\n",
       "      <td>-73.987085</td>\n",
       "    </tr>\n",
       "    <tr>\n",
       "      <th>1</th>\n",
       "      <td>2</td>\n",
       "      <td>Grand Central - 42 Street</td>\n",
       "      <td>13162826</td>\n",
       "      <td>40.753135</td>\n",
       "      <td>-73.977659</td>\n",
       "    </tr>\n",
       "    <tr>\n",
       "      <th>2</th>\n",
       "      <td>3</td>\n",
       "      <td>34th Street - Herald Square</td>\n",
       "      <td>12826841</td>\n",
       "      <td>40.750505</td>\n",
       "      <td>-73.987714</td>\n",
       "    </tr>\n",
       "    <tr>\n",
       "      <th>3</th>\n",
       "      <td>4</td>\n",
       "      <td>14th Street - Union Square</td>\n",
       "      <td>10830712</td>\n",
       "      <td>40.735074</td>\n",
       "      <td>-73.990281</td>\n",
       "    </tr>\n",
       "    <tr>\n",
       "      <th>4</th>\n",
       "      <td>5</td>\n",
       "      <td>Fulton Street</td>\n",
       "      <td>8855302</td>\n",
       "      <td>40.710040</td>\n",
       "      <td>-74.008412</td>\n",
       "    </tr>\n",
       "    <tr>\n",
       "      <th>5</th>\n",
       "      <td>6</td>\n",
       "      <td>34th Street - Penn Station (Lines 1, 2, 3)</td>\n",
       "      <td>8103809</td>\n",
       "      <td>40.751236</td>\n",
       "      <td>-73.990407</td>\n",
       "    </tr>\n",
       "    <tr>\n",
       "      <th>6</th>\n",
       "      <td>7</td>\n",
       "      <td>34th Street - Penn Station (Lines A, C, E)</td>\n",
       "      <td>8010472</td>\n",
       "      <td>40.752107</td>\n",
       "      <td>-73.993293</td>\n",
       "    </tr>\n",
       "    <tr>\n",
       "      <th>7</th>\n",
       "      <td>8</td>\n",
       "      <td>59th Street - Columbus Circle</td>\n",
       "      <td>7618925</td>\n",
       "      <td>40.769020</td>\n",
       "      <td>-73.981635</td>\n",
       "    </tr>\n",
       "    <tr>\n",
       "      <th>8</th>\n",
       "      <td>9</td>\n",
       "      <td>74th Street - Broadway</td>\n",
       "      <td>7523538</td>\n",
       "      <td>40.747340</td>\n",
       "      <td>-73.891170</td>\n",
       "    </tr>\n",
       "    <tr>\n",
       "      <th>9</th>\n",
       "      <td>10</td>\n",
       "      <td>Flushing - Main Street</td>\n",
       "      <td>6944923</td>\n",
       "      <td>40.760290</td>\n",
       "      <td>-73.829836</td>\n",
       "    </tr>\n",
       "  </tbody>\n",
       "</table>\n",
       "</div>"
      ],
      "text/plain": [
       "   Ranks                                     Station  Ridership   Latitude  \\\n",
       "0      1                    Times Square - 42 Street   20341240  40.756048   \n",
       "1      2                   Grand Central - 42 Street   13162826  40.753135   \n",
       "2      3                 34th Street - Herald Square   12826841  40.750505   \n",
       "3      4                  14th Street - Union Square   10830712  40.735074   \n",
       "4      5                               Fulton Street    8855302  40.710040   \n",
       "5      6  34th Street - Penn Station (Lines 1, 2, 3)    8103809  40.751236   \n",
       "6      7  34th Street - Penn Station (Lines A, C, E)    8010472  40.752107   \n",
       "7      8               59th Street - Columbus Circle    7618925  40.769020   \n",
       "8      9                      74th Street - Broadway    7523538  40.747340   \n",
       "9     10                      Flushing - Main Street    6944923  40.760290   \n",
       "\n",
       "   Longitude  \n",
       "0 -73.987085  \n",
       "1 -73.977659  \n",
       "2 -73.987714  \n",
       "3 -73.990281  \n",
       "4 -74.008412  \n",
       "5 -73.990407  \n",
       "6 -73.993293  \n",
       "7 -73.981635  \n",
       "8 -73.891170  \n",
       "9 -73.829836  "
      ]
     },
     "execution_count": 5,
     "metadata": {},
     "output_type": "execute_result"
    }
   ],
   "source": [
    "#data from: https://new.mta.info/agency/new-york-city-transit/subway-bus-ridership-2020\n",
    "ranks = np.arange(1,11)\n",
    "subway_station_names = ['Times Square - 42 Street', 'Grand Central - 42 Street', '34th Street - Herald Square',\n",
    "                       '14th Street - Union Square', 'Fulton Street', '34th Street - Penn Station (Lines 1, 2, 3)',\n",
    "                       '34th Street - Penn Station (Lines A, C, E)', '59th Street - Columbus Circle',\n",
    "                        '74th Street - Broadway', 'Flushing - Main Street']\n",
    "subway_ridership_numbers = [20341240, 13162826, 12826841, 10830712, 8855302,\n",
    "                           8103809, 8010472, 7618925, 7523538, 6944923]\n",
    "\n",
    "latitudes = [40.75604843748642, 40.753135250724355, 40.75050544481105, 40.73507365672447, 40.71003988250684,\n",
    "            40.75123569759183, 40.75210699233124, 40.76902018285727, 40.74734048326206, 40.760289591950595]\n",
    "longitudes = [-73.98708533272229, -73.97765856137177, -73.98771351534295,  -73.99028058465707, -74.00841163068587,\n",
    "             -73.99040686065578,  -73.99329330560329, -73.98163533862824, -73.89117026137176, -73.82983626931413]\n",
    "subway_dict = {'Ranks':ranks, 'Station': subway_station_names, 'Ridership':subway_ridership_numbers,\n",
    "              'Latitude':latitudes, 'Longitude':longitudes}\n",
    "busiest_subway_stations = pd.DataFrame(subway_dict)\n",
    "busiest_subway_stations\n"
   ]
  },
  {
   "cell_type": "code",
   "execution_count": 24,
   "id": "e0635fdb",
   "metadata": {},
   "outputs": [],
   "source": [
    "m = folium.Map(location = [40.712776, -74.005974], zoom_start=12)"
   ]
  },
  {
   "cell_type": "markdown",
   "id": "f297e859",
   "metadata": {},
   "source": [
    "The cell below shows an interactive map of the top 10 busiest subway stations in New York City.\n",
    "\n",
    "Hover over the point in order to show the subway station's name.\n",
    "\n",
    "Click on the point in order to show what rank it is (in terms of how busy the station is)\n",
    "and the ridership in 2020."
   ]
  },
  {
   "cell_type": "code",
   "execution_count": 23,
   "id": "2b2b896e",
   "metadata": {},
   "outputs": [
    {
     "data": {
      "text/html": [
       "<div style=\"width:100%;\"><div style=\"position:relative;width:100%;height:0;padding-bottom:60%;\"><span style=\"color:#565656\">Make this Notebook Trusted to load map: File -> Trust Notebook</span><iframe src=\"about:blank\" style=\"position:absolute;width:100%;height:100%;left:0;top:0;border:none !important;\" data-html=%3C%21DOCTYPE%20html%3E%0A%3Chead%3E%20%20%20%20%0A%20%20%20%20%3Cmeta%20http-equiv%3D%22content-type%22%20content%3D%22text/html%3B%20charset%3DUTF-8%22%20/%3E%0A%20%20%20%20%0A%20%20%20%20%20%20%20%20%3Cscript%3E%0A%20%20%20%20%20%20%20%20%20%20%20%20L_NO_TOUCH%20%3D%20false%3B%0A%20%20%20%20%20%20%20%20%20%20%20%20L_DISABLE_3D%20%3D%20false%3B%0A%20%20%20%20%20%20%20%20%3C/script%3E%0A%20%20%20%20%0A%20%20%20%20%3Cstyle%3Ehtml%2C%20body%20%7Bwidth%3A%20100%25%3Bheight%3A%20100%25%3Bmargin%3A%200%3Bpadding%3A%200%3B%7D%3C/style%3E%0A%20%20%20%20%3Cstyle%3E%23map%20%7Bposition%3Aabsolute%3Btop%3A0%3Bbottom%3A0%3Bright%3A0%3Bleft%3A0%3B%7D%3C/style%3E%0A%20%20%20%20%3Cscript%20src%3D%22https%3A//cdn.jsdelivr.net/npm/leaflet%401.6.0/dist/leaflet.js%22%3E%3C/script%3E%0A%20%20%20%20%3Cscript%20src%3D%22https%3A//code.jquery.com/jquery-1.12.4.min.js%22%3E%3C/script%3E%0A%20%20%20%20%3Cscript%20src%3D%22https%3A//maxcdn.bootstrapcdn.com/bootstrap/3.2.0/js/bootstrap.min.js%22%3E%3C/script%3E%0A%20%20%20%20%3Cscript%20src%3D%22https%3A//cdnjs.cloudflare.com/ajax/libs/Leaflet.awesome-markers/2.0.2/leaflet.awesome-markers.js%22%3E%3C/script%3E%0A%20%20%20%20%3Clink%20rel%3D%22stylesheet%22%20href%3D%22https%3A//cdn.jsdelivr.net/npm/leaflet%401.6.0/dist/leaflet.css%22/%3E%0A%20%20%20%20%3Clink%20rel%3D%22stylesheet%22%20href%3D%22https%3A//maxcdn.bootstrapcdn.com/bootstrap/3.2.0/css/bootstrap.min.css%22/%3E%0A%20%20%20%20%3Clink%20rel%3D%22stylesheet%22%20href%3D%22https%3A//maxcdn.bootstrapcdn.com/bootstrap/3.2.0/css/bootstrap-theme.min.css%22/%3E%0A%20%20%20%20%3Clink%20rel%3D%22stylesheet%22%20href%3D%22https%3A//maxcdn.bootstrapcdn.com/font-awesome/4.6.3/css/font-awesome.min.css%22/%3E%0A%20%20%20%20%3Clink%20rel%3D%22stylesheet%22%20href%3D%22https%3A//cdnjs.cloudflare.com/ajax/libs/Leaflet.awesome-markers/2.0.2/leaflet.awesome-markers.css%22/%3E%0A%20%20%20%20%3Clink%20rel%3D%22stylesheet%22%20href%3D%22https%3A//cdn.jsdelivr.net/gh/python-visualization/folium/folium/templates/leaflet.awesome.rotate.min.css%22/%3E%0A%20%20%20%20%0A%20%20%20%20%20%20%20%20%20%20%20%20%3Cmeta%20name%3D%22viewport%22%20content%3D%22width%3Ddevice-width%2C%0A%20%20%20%20%20%20%20%20%20%20%20%20%20%20%20%20initial-scale%3D1.0%2C%20maximum-scale%3D1.0%2C%20user-scalable%3Dno%22%20/%3E%0A%20%20%20%20%20%20%20%20%20%20%20%20%3Cstyle%3E%0A%20%20%20%20%20%20%20%20%20%20%20%20%20%20%20%20%23map_7e5a5ad7dc5a47f48cd4f7cc57064c6a%20%7B%0A%20%20%20%20%20%20%20%20%20%20%20%20%20%20%20%20%20%20%20%20position%3A%20relative%3B%0A%20%20%20%20%20%20%20%20%20%20%20%20%20%20%20%20%20%20%20%20width%3A%20100.0%25%3B%0A%20%20%20%20%20%20%20%20%20%20%20%20%20%20%20%20%20%20%20%20height%3A%20100.0%25%3B%0A%20%20%20%20%20%20%20%20%20%20%20%20%20%20%20%20%20%20%20%20left%3A%200.0%25%3B%0A%20%20%20%20%20%20%20%20%20%20%20%20%20%20%20%20%20%20%20%20top%3A%200.0%25%3B%0A%20%20%20%20%20%20%20%20%20%20%20%20%20%20%20%20%7D%0A%20%20%20%20%20%20%20%20%20%20%20%20%3C/style%3E%0A%20%20%20%20%20%20%20%20%0A%3C/head%3E%0A%3Cbody%3E%20%20%20%20%0A%20%20%20%20%0A%20%20%20%20%20%20%20%20%20%20%20%20%3Cdiv%20class%3D%22folium-map%22%20id%3D%22map_7e5a5ad7dc5a47f48cd4f7cc57064c6a%22%20%3E%3C/div%3E%0A%20%20%20%20%20%20%20%20%0A%3C/body%3E%0A%3Cscript%3E%20%20%20%20%0A%20%20%20%20%0A%20%20%20%20%20%20%20%20%20%20%20%20var%20map_7e5a5ad7dc5a47f48cd4f7cc57064c6a%20%3D%20L.map%28%0A%20%20%20%20%20%20%20%20%20%20%20%20%20%20%20%20%22map_7e5a5ad7dc5a47f48cd4f7cc57064c6a%22%2C%0A%20%20%20%20%20%20%20%20%20%20%20%20%20%20%20%20%7B%0A%20%20%20%20%20%20%20%20%20%20%20%20%20%20%20%20%20%20%20%20center%3A%20%5B40.712776%2C%20-74.005974%5D%2C%0A%20%20%20%20%20%20%20%20%20%20%20%20%20%20%20%20%20%20%20%20crs%3A%20L.CRS.EPSG3857%2C%0A%20%20%20%20%20%20%20%20%20%20%20%20%20%20%20%20%20%20%20%20zoom%3A%2012%2C%0A%20%20%20%20%20%20%20%20%20%20%20%20%20%20%20%20%20%20%20%20zoomControl%3A%20true%2C%0A%20%20%20%20%20%20%20%20%20%20%20%20%20%20%20%20%20%20%20%20preferCanvas%3A%20false%2C%0A%20%20%20%20%20%20%20%20%20%20%20%20%20%20%20%20%7D%0A%20%20%20%20%20%20%20%20%20%20%20%20%29%3B%0A%0A%20%20%20%20%20%20%20%20%20%20%20%20%0A%0A%20%20%20%20%20%20%20%20%0A%20%20%20%20%0A%20%20%20%20%20%20%20%20%20%20%20%20var%20tile_layer_c38b240f723f45ecb7571bbf0ac458d6%20%3D%20L.tileLayer%28%0A%20%20%20%20%20%20%20%20%20%20%20%20%20%20%20%20%22https%3A//%7Bs%7D.tile.openstreetmap.org/%7Bz%7D/%7Bx%7D/%7By%7D.png%22%2C%0A%20%20%20%20%20%20%20%20%20%20%20%20%20%20%20%20%7B%22attribution%22%3A%20%22Data%20by%20%5Cu0026copy%3B%20%5Cu003ca%20href%3D%5C%22http%3A//openstreetmap.org%5C%22%5Cu003eOpenStreetMap%5Cu003c/a%5Cu003e%2C%20under%20%5Cu003ca%20href%3D%5C%22http%3A//www.openstreetmap.org/copyright%5C%22%5Cu003eODbL%5Cu003c/a%5Cu003e.%22%2C%20%22detectRetina%22%3A%20false%2C%20%22maxNativeZoom%22%3A%2018%2C%20%22maxZoom%22%3A%2018%2C%20%22minZoom%22%3A%200%2C%20%22noWrap%22%3A%20false%2C%20%22opacity%22%3A%201%2C%20%22subdomains%22%3A%20%22abc%22%2C%20%22tms%22%3A%20false%7D%0A%20%20%20%20%20%20%20%20%20%20%20%20%29.addTo%28map_7e5a5ad7dc5a47f48cd4f7cc57064c6a%29%3B%0A%20%20%20%20%20%20%20%20%0A%20%20%20%20%0A%20%20%20%20%20%20%20%20%20%20%20%20var%20marker_500a7f83a44a4ac38463a57544016dc4%20%3D%20L.marker%28%0A%20%20%20%20%20%20%20%20%20%20%20%20%20%20%20%20%5B40.75604843748642%2C%20-73.98708533272229%5D%2C%0A%20%20%20%20%20%20%20%20%20%20%20%20%20%20%20%20%7B%7D%0A%20%20%20%20%20%20%20%20%20%20%20%20%29.addTo%28map_7e5a5ad7dc5a47f48cd4f7cc57064c6a%29%3B%0A%20%20%20%20%20%20%20%20%0A%20%20%20%20%0A%20%20%20%20%20%20%20%20var%20popup_54f2f348ce2b4cf58fa2a69ab73013c2%20%3D%20L.popup%28%7B%22maxWidth%22%3A%20%22100%25%22%7D%29%3B%0A%0A%20%20%20%20%20%20%20%20%0A%20%20%20%20%20%20%20%20%20%20%20%20var%20html_03950f399b26426ea45eb08239e9b677%20%3D%20%24%28%60%3Cdiv%20id%3D%22html_03950f399b26426ea45eb08239e9b677%22%20style%3D%22width%3A%20100.0%25%3B%20height%3A%20100.0%25%3B%22%3ERank%201%20in%20Busiest%20Subway%20Stations%20with%20a%20ridership%20of%2020341240%20in%202020%3C/div%3E%60%29%5B0%5D%3B%0A%20%20%20%20%20%20%20%20%20%20%20%20popup_54f2f348ce2b4cf58fa2a69ab73013c2.setContent%28html_03950f399b26426ea45eb08239e9b677%29%3B%0A%20%20%20%20%20%20%20%20%0A%0A%20%20%20%20%20%20%20%20marker_500a7f83a44a4ac38463a57544016dc4.bindPopup%28popup_54f2f348ce2b4cf58fa2a69ab73013c2%29%0A%20%20%20%20%20%20%20%20%3B%0A%0A%20%20%20%20%20%20%20%20%0A%20%20%20%20%0A%20%20%20%20%0A%20%20%20%20%20%20%20%20%20%20%20%20marker_500a7f83a44a4ac38463a57544016dc4.bindTooltip%28%0A%20%20%20%20%20%20%20%20%20%20%20%20%20%20%20%20%60%3Cdiv%3E%0A%20%20%20%20%20%20%20%20%20%20%20%20%20%20%20%20%20%20%20%20%20Times%20Square%20-%2042%20Street%20%28click%20for%20more%20info%29%0A%20%20%20%20%20%20%20%20%20%20%20%20%20%20%20%20%20%3C/div%3E%60%2C%0A%20%20%20%20%20%20%20%20%20%20%20%20%20%20%20%20%7B%22sticky%22%3A%20true%7D%0A%20%20%20%20%20%20%20%20%20%20%20%20%29%3B%0A%20%20%20%20%20%20%20%20%0A%20%20%20%20%0A%20%20%20%20%20%20%20%20%20%20%20%20var%20marker_f95d170e265e4b3b89c7f9a2704aa046%20%3D%20L.marker%28%0A%20%20%20%20%20%20%20%20%20%20%20%20%20%20%20%20%5B40.753135250724355%2C%20-73.97765856137177%5D%2C%0A%20%20%20%20%20%20%20%20%20%20%20%20%20%20%20%20%7B%7D%0A%20%20%20%20%20%20%20%20%20%20%20%20%29.addTo%28map_7e5a5ad7dc5a47f48cd4f7cc57064c6a%29%3B%0A%20%20%20%20%20%20%20%20%0A%20%20%20%20%0A%20%20%20%20%20%20%20%20var%20popup_fa99b1462fda4a3b948b1129c6aaeae0%20%3D%20L.popup%28%7B%22maxWidth%22%3A%20%22100%25%22%7D%29%3B%0A%0A%20%20%20%20%20%20%20%20%0A%20%20%20%20%20%20%20%20%20%20%20%20var%20html_695de0451cd64751976240dcdc1114be%20%3D%20%24%28%60%3Cdiv%20id%3D%22html_695de0451cd64751976240dcdc1114be%22%20style%3D%22width%3A%20100.0%25%3B%20height%3A%20100.0%25%3B%22%3ERank%202%20in%20Busiest%20Subway%20Stations%20with%20a%20ridership%20of%2013162826%20in%202020%3C/div%3E%60%29%5B0%5D%3B%0A%20%20%20%20%20%20%20%20%20%20%20%20popup_fa99b1462fda4a3b948b1129c6aaeae0.setContent%28html_695de0451cd64751976240dcdc1114be%29%3B%0A%20%20%20%20%20%20%20%20%0A%0A%20%20%20%20%20%20%20%20marker_f95d170e265e4b3b89c7f9a2704aa046.bindPopup%28popup_fa99b1462fda4a3b948b1129c6aaeae0%29%0A%20%20%20%20%20%20%20%20%3B%0A%0A%20%20%20%20%20%20%20%20%0A%20%20%20%20%0A%20%20%20%20%0A%20%20%20%20%20%20%20%20%20%20%20%20marker_f95d170e265e4b3b89c7f9a2704aa046.bindTooltip%28%0A%20%20%20%20%20%20%20%20%20%20%20%20%20%20%20%20%60%3Cdiv%3E%0A%20%20%20%20%20%20%20%20%20%20%20%20%20%20%20%20%20%20%20%20%20Grand%20Central%20-%2042%20Street%20%28click%20for%20more%20info%29%0A%20%20%20%20%20%20%20%20%20%20%20%20%20%20%20%20%20%3C/div%3E%60%2C%0A%20%20%20%20%20%20%20%20%20%20%20%20%20%20%20%20%7B%22sticky%22%3A%20true%7D%0A%20%20%20%20%20%20%20%20%20%20%20%20%29%3B%0A%20%20%20%20%20%20%20%20%0A%20%20%20%20%0A%20%20%20%20%20%20%20%20%20%20%20%20var%20marker_23250474be5e43ad8dca9929f4910f24%20%3D%20L.marker%28%0A%20%20%20%20%20%20%20%20%20%20%20%20%20%20%20%20%5B40.75050544481105%2C%20-73.98771351534295%5D%2C%0A%20%20%20%20%20%20%20%20%20%20%20%20%20%20%20%20%7B%7D%0A%20%20%20%20%20%20%20%20%20%20%20%20%29.addTo%28map_7e5a5ad7dc5a47f48cd4f7cc57064c6a%29%3B%0A%20%20%20%20%20%20%20%20%0A%20%20%20%20%0A%20%20%20%20%20%20%20%20var%20popup_0a9c2e6fe77d44e1a1fcf8c7a4a71715%20%3D%20L.popup%28%7B%22maxWidth%22%3A%20%22100%25%22%7D%29%3B%0A%0A%20%20%20%20%20%20%20%20%0A%20%20%20%20%20%20%20%20%20%20%20%20var%20html_422246baefb1460cb37a99b6d55ac7ef%20%3D%20%24%28%60%3Cdiv%20id%3D%22html_422246baefb1460cb37a99b6d55ac7ef%22%20style%3D%22width%3A%20100.0%25%3B%20height%3A%20100.0%25%3B%22%3ERank%203%20in%20Busiest%20Subway%20Stations%20with%20a%20ridership%20of%2012826841%20in%202020%3C/div%3E%60%29%5B0%5D%3B%0A%20%20%20%20%20%20%20%20%20%20%20%20popup_0a9c2e6fe77d44e1a1fcf8c7a4a71715.setContent%28html_422246baefb1460cb37a99b6d55ac7ef%29%3B%0A%20%20%20%20%20%20%20%20%0A%0A%20%20%20%20%20%20%20%20marker_23250474be5e43ad8dca9929f4910f24.bindPopup%28popup_0a9c2e6fe77d44e1a1fcf8c7a4a71715%29%0A%20%20%20%20%20%20%20%20%3B%0A%0A%20%20%20%20%20%20%20%20%0A%20%20%20%20%0A%20%20%20%20%0A%20%20%20%20%20%20%20%20%20%20%20%20marker_23250474be5e43ad8dca9929f4910f24.bindTooltip%28%0A%20%20%20%20%20%20%20%20%20%20%20%20%20%20%20%20%60%3Cdiv%3E%0A%20%20%20%20%20%20%20%20%20%20%20%20%20%20%20%20%20%20%20%20%2034th%20Street%20-%20Herald%20Square%20%28click%20for%20more%20info%29%0A%20%20%20%20%20%20%20%20%20%20%20%20%20%20%20%20%20%3C/div%3E%60%2C%0A%20%20%20%20%20%20%20%20%20%20%20%20%20%20%20%20%7B%22sticky%22%3A%20true%7D%0A%20%20%20%20%20%20%20%20%20%20%20%20%29%3B%0A%20%20%20%20%20%20%20%20%0A%20%20%20%20%0A%20%20%20%20%20%20%20%20%20%20%20%20var%20marker_1681a3ff11bf4b1d8dc542641d05983d%20%3D%20L.marker%28%0A%20%20%20%20%20%20%20%20%20%20%20%20%20%20%20%20%5B40.73507365672447%2C%20-73.99028058465707%5D%2C%0A%20%20%20%20%20%20%20%20%20%20%20%20%20%20%20%20%7B%7D%0A%20%20%20%20%20%20%20%20%20%20%20%20%29.addTo%28map_7e5a5ad7dc5a47f48cd4f7cc57064c6a%29%3B%0A%20%20%20%20%20%20%20%20%0A%20%20%20%20%0A%20%20%20%20%20%20%20%20var%20popup_79658a6737c64fafb605bfc5c7ad9c0e%20%3D%20L.popup%28%7B%22maxWidth%22%3A%20%22100%25%22%7D%29%3B%0A%0A%20%20%20%20%20%20%20%20%0A%20%20%20%20%20%20%20%20%20%20%20%20var%20html_cd68c9c7254f4213921110cbce98361f%20%3D%20%24%28%60%3Cdiv%20id%3D%22html_cd68c9c7254f4213921110cbce98361f%22%20style%3D%22width%3A%20100.0%25%3B%20height%3A%20100.0%25%3B%22%3ERank%204%20in%20Busiest%20Subway%20Stations%20with%20a%20ridership%20of%2010830712%20in%202020%3C/div%3E%60%29%5B0%5D%3B%0A%20%20%20%20%20%20%20%20%20%20%20%20popup_79658a6737c64fafb605bfc5c7ad9c0e.setContent%28html_cd68c9c7254f4213921110cbce98361f%29%3B%0A%20%20%20%20%20%20%20%20%0A%0A%20%20%20%20%20%20%20%20marker_1681a3ff11bf4b1d8dc542641d05983d.bindPopup%28popup_79658a6737c64fafb605bfc5c7ad9c0e%29%0A%20%20%20%20%20%20%20%20%3B%0A%0A%20%20%20%20%20%20%20%20%0A%20%20%20%20%0A%20%20%20%20%0A%20%20%20%20%20%20%20%20%20%20%20%20marker_1681a3ff11bf4b1d8dc542641d05983d.bindTooltip%28%0A%20%20%20%20%20%20%20%20%20%20%20%20%20%20%20%20%60%3Cdiv%3E%0A%20%20%20%20%20%20%20%20%20%20%20%20%20%20%20%20%20%20%20%20%2014th%20Street%20-%20Union%20Square%20%28click%20for%20more%20info%29%0A%20%20%20%20%20%20%20%20%20%20%20%20%20%20%20%20%20%3C/div%3E%60%2C%0A%20%20%20%20%20%20%20%20%20%20%20%20%20%20%20%20%7B%22sticky%22%3A%20true%7D%0A%20%20%20%20%20%20%20%20%20%20%20%20%29%3B%0A%20%20%20%20%20%20%20%20%0A%20%20%20%20%0A%20%20%20%20%20%20%20%20%20%20%20%20var%20marker_15aa57694a6c4aed8d73077d2e90721c%20%3D%20L.marker%28%0A%20%20%20%20%20%20%20%20%20%20%20%20%20%20%20%20%5B40.71003988250684%2C%20-74.00841163068587%5D%2C%0A%20%20%20%20%20%20%20%20%20%20%20%20%20%20%20%20%7B%7D%0A%20%20%20%20%20%20%20%20%20%20%20%20%29.addTo%28map_7e5a5ad7dc5a47f48cd4f7cc57064c6a%29%3B%0A%20%20%20%20%20%20%20%20%0A%20%20%20%20%0A%20%20%20%20%20%20%20%20var%20popup_e4868db52c744b99a74f0c50696abfed%20%3D%20L.popup%28%7B%22maxWidth%22%3A%20%22100%25%22%7D%29%3B%0A%0A%20%20%20%20%20%20%20%20%0A%20%20%20%20%20%20%20%20%20%20%20%20var%20html_61cffc3755c0421ba1f8855c88ff9951%20%3D%20%24%28%60%3Cdiv%20id%3D%22html_61cffc3755c0421ba1f8855c88ff9951%22%20style%3D%22width%3A%20100.0%25%3B%20height%3A%20100.0%25%3B%22%3ERank%205%20in%20Busiest%20Subway%20Stations%20with%20a%20ridership%20of%208855302%20in%202020%3C/div%3E%60%29%5B0%5D%3B%0A%20%20%20%20%20%20%20%20%20%20%20%20popup_e4868db52c744b99a74f0c50696abfed.setContent%28html_61cffc3755c0421ba1f8855c88ff9951%29%3B%0A%20%20%20%20%20%20%20%20%0A%0A%20%20%20%20%20%20%20%20marker_15aa57694a6c4aed8d73077d2e90721c.bindPopup%28popup_e4868db52c744b99a74f0c50696abfed%29%0A%20%20%20%20%20%20%20%20%3B%0A%0A%20%20%20%20%20%20%20%20%0A%20%20%20%20%0A%20%20%20%20%0A%20%20%20%20%20%20%20%20%20%20%20%20marker_15aa57694a6c4aed8d73077d2e90721c.bindTooltip%28%0A%20%20%20%20%20%20%20%20%20%20%20%20%20%20%20%20%60%3Cdiv%3E%0A%20%20%20%20%20%20%20%20%20%20%20%20%20%20%20%20%20%20%20%20%20Fulton%20Street%20%28click%20for%20more%20info%29%0A%20%20%20%20%20%20%20%20%20%20%20%20%20%20%20%20%20%3C/div%3E%60%2C%0A%20%20%20%20%20%20%20%20%20%20%20%20%20%20%20%20%7B%22sticky%22%3A%20true%7D%0A%20%20%20%20%20%20%20%20%20%20%20%20%29%3B%0A%20%20%20%20%20%20%20%20%0A%20%20%20%20%0A%20%20%20%20%20%20%20%20%20%20%20%20var%20marker_cb36f70266d841cc8d318f3c19b7a2ee%20%3D%20L.marker%28%0A%20%20%20%20%20%20%20%20%20%20%20%20%20%20%20%20%5B40.75123569759183%2C%20-73.99040686065578%5D%2C%0A%20%20%20%20%20%20%20%20%20%20%20%20%20%20%20%20%7B%7D%0A%20%20%20%20%20%20%20%20%20%20%20%20%29.addTo%28map_7e5a5ad7dc5a47f48cd4f7cc57064c6a%29%3B%0A%20%20%20%20%20%20%20%20%0A%20%20%20%20%0A%20%20%20%20%20%20%20%20var%20popup_fd7ec3ae25124176883ba96e9ba20a6b%20%3D%20L.popup%28%7B%22maxWidth%22%3A%20%22100%25%22%7D%29%3B%0A%0A%20%20%20%20%20%20%20%20%0A%20%20%20%20%20%20%20%20%20%20%20%20var%20html_7d9887e75f4f4bc6abc1ab926bd9c07a%20%3D%20%24%28%60%3Cdiv%20id%3D%22html_7d9887e75f4f4bc6abc1ab926bd9c07a%22%20style%3D%22width%3A%20100.0%25%3B%20height%3A%20100.0%25%3B%22%3ERank%206%20in%20Busiest%20Subway%20Stations%20with%20a%20ridership%20of%208103809%20in%202020%3C/div%3E%60%29%5B0%5D%3B%0A%20%20%20%20%20%20%20%20%20%20%20%20popup_fd7ec3ae25124176883ba96e9ba20a6b.setContent%28html_7d9887e75f4f4bc6abc1ab926bd9c07a%29%3B%0A%20%20%20%20%20%20%20%20%0A%0A%20%20%20%20%20%20%20%20marker_cb36f70266d841cc8d318f3c19b7a2ee.bindPopup%28popup_fd7ec3ae25124176883ba96e9ba20a6b%29%0A%20%20%20%20%20%20%20%20%3B%0A%0A%20%20%20%20%20%20%20%20%0A%20%20%20%20%0A%20%20%20%20%0A%20%20%20%20%20%20%20%20%20%20%20%20marker_cb36f70266d841cc8d318f3c19b7a2ee.bindTooltip%28%0A%20%20%20%20%20%20%20%20%20%20%20%20%20%20%20%20%60%3Cdiv%3E%0A%20%20%20%20%20%20%20%20%20%20%20%20%20%20%20%20%20%20%20%20%2034th%20Street%20-%20Penn%20Station%20%28Lines%201%2C%202%2C%203%29%20%28click%20for%20more%20info%29%0A%20%20%20%20%20%20%20%20%20%20%20%20%20%20%20%20%20%3C/div%3E%60%2C%0A%20%20%20%20%20%20%20%20%20%20%20%20%20%20%20%20%7B%22sticky%22%3A%20true%7D%0A%20%20%20%20%20%20%20%20%20%20%20%20%29%3B%0A%20%20%20%20%20%20%20%20%0A%20%20%20%20%0A%20%20%20%20%20%20%20%20%20%20%20%20var%20marker_790ded5bec1742798b0b20718c926bc9%20%3D%20L.marker%28%0A%20%20%20%20%20%20%20%20%20%20%20%20%20%20%20%20%5B40.75210699233124%2C%20-73.99329330560329%5D%2C%0A%20%20%20%20%20%20%20%20%20%20%20%20%20%20%20%20%7B%7D%0A%20%20%20%20%20%20%20%20%20%20%20%20%29.addTo%28map_7e5a5ad7dc5a47f48cd4f7cc57064c6a%29%3B%0A%20%20%20%20%20%20%20%20%0A%20%20%20%20%0A%20%20%20%20%20%20%20%20var%20popup_086fdd61bff24b2da6fd23d52583f33e%20%3D%20L.popup%28%7B%22maxWidth%22%3A%20%22100%25%22%7D%29%3B%0A%0A%20%20%20%20%20%20%20%20%0A%20%20%20%20%20%20%20%20%20%20%20%20var%20html_597bf668dbc54a11990311dcb151cbd1%20%3D%20%24%28%60%3Cdiv%20id%3D%22html_597bf668dbc54a11990311dcb151cbd1%22%20style%3D%22width%3A%20100.0%25%3B%20height%3A%20100.0%25%3B%22%3ERank%207%20in%20Busiest%20Subway%20Stations%20with%20a%20ridership%20of%208010472%20in%202020%3C/div%3E%60%29%5B0%5D%3B%0A%20%20%20%20%20%20%20%20%20%20%20%20popup_086fdd61bff24b2da6fd23d52583f33e.setContent%28html_597bf668dbc54a11990311dcb151cbd1%29%3B%0A%20%20%20%20%20%20%20%20%0A%0A%20%20%20%20%20%20%20%20marker_790ded5bec1742798b0b20718c926bc9.bindPopup%28popup_086fdd61bff24b2da6fd23d52583f33e%29%0A%20%20%20%20%20%20%20%20%3B%0A%0A%20%20%20%20%20%20%20%20%0A%20%20%20%20%0A%20%20%20%20%0A%20%20%20%20%20%20%20%20%20%20%20%20marker_790ded5bec1742798b0b20718c926bc9.bindTooltip%28%0A%20%20%20%20%20%20%20%20%20%20%20%20%20%20%20%20%60%3Cdiv%3E%0A%20%20%20%20%20%20%20%20%20%20%20%20%20%20%20%20%20%20%20%20%2034th%20Street%20-%20Penn%20Station%20%28Lines%20A%2C%20C%2C%20E%29%20%28click%20for%20more%20info%29%0A%20%20%20%20%20%20%20%20%20%20%20%20%20%20%20%20%20%3C/div%3E%60%2C%0A%20%20%20%20%20%20%20%20%20%20%20%20%20%20%20%20%7B%22sticky%22%3A%20true%7D%0A%20%20%20%20%20%20%20%20%20%20%20%20%29%3B%0A%20%20%20%20%20%20%20%20%0A%20%20%20%20%0A%20%20%20%20%20%20%20%20%20%20%20%20var%20marker_6e1662df973442e6a4dd443d4c93265b%20%3D%20L.marker%28%0A%20%20%20%20%20%20%20%20%20%20%20%20%20%20%20%20%5B40.76902018285727%2C%20-73.98163533862824%5D%2C%0A%20%20%20%20%20%20%20%20%20%20%20%20%20%20%20%20%7B%7D%0A%20%20%20%20%20%20%20%20%20%20%20%20%29.addTo%28map_7e5a5ad7dc5a47f48cd4f7cc57064c6a%29%3B%0A%20%20%20%20%20%20%20%20%0A%20%20%20%20%0A%20%20%20%20%20%20%20%20var%20popup_5e10834e5d444286b11bc375ffb9768b%20%3D%20L.popup%28%7B%22maxWidth%22%3A%20%22100%25%22%7D%29%3B%0A%0A%20%20%20%20%20%20%20%20%0A%20%20%20%20%20%20%20%20%20%20%20%20var%20html_c82e227d09ee4a4e830f1cd13df3233a%20%3D%20%24%28%60%3Cdiv%20id%3D%22html_c82e227d09ee4a4e830f1cd13df3233a%22%20style%3D%22width%3A%20100.0%25%3B%20height%3A%20100.0%25%3B%22%3ERank%208%20in%20Busiest%20Subway%20Stations%20with%20a%20ridership%20of%207618925%20in%202020%3C/div%3E%60%29%5B0%5D%3B%0A%20%20%20%20%20%20%20%20%20%20%20%20popup_5e10834e5d444286b11bc375ffb9768b.setContent%28html_c82e227d09ee4a4e830f1cd13df3233a%29%3B%0A%20%20%20%20%20%20%20%20%0A%0A%20%20%20%20%20%20%20%20marker_6e1662df973442e6a4dd443d4c93265b.bindPopup%28popup_5e10834e5d444286b11bc375ffb9768b%29%0A%20%20%20%20%20%20%20%20%3B%0A%0A%20%20%20%20%20%20%20%20%0A%20%20%20%20%0A%20%20%20%20%0A%20%20%20%20%20%20%20%20%20%20%20%20marker_6e1662df973442e6a4dd443d4c93265b.bindTooltip%28%0A%20%20%20%20%20%20%20%20%20%20%20%20%20%20%20%20%60%3Cdiv%3E%0A%20%20%20%20%20%20%20%20%20%20%20%20%20%20%20%20%20%20%20%20%2059th%20Street%20-%20Columbus%20Circle%20%28click%20for%20more%20info%29%0A%20%20%20%20%20%20%20%20%20%20%20%20%20%20%20%20%20%3C/div%3E%60%2C%0A%20%20%20%20%20%20%20%20%20%20%20%20%20%20%20%20%7B%22sticky%22%3A%20true%7D%0A%20%20%20%20%20%20%20%20%20%20%20%20%29%3B%0A%20%20%20%20%20%20%20%20%0A%20%20%20%20%0A%20%20%20%20%20%20%20%20%20%20%20%20var%20marker_f75dbaeda91a476b98f09ef111d710f9%20%3D%20L.marker%28%0A%20%20%20%20%20%20%20%20%20%20%20%20%20%20%20%20%5B40.74734048326206%2C%20-73.89117026137176%5D%2C%0A%20%20%20%20%20%20%20%20%20%20%20%20%20%20%20%20%7B%7D%0A%20%20%20%20%20%20%20%20%20%20%20%20%29.addTo%28map_7e5a5ad7dc5a47f48cd4f7cc57064c6a%29%3B%0A%20%20%20%20%20%20%20%20%0A%20%20%20%20%0A%20%20%20%20%20%20%20%20var%20popup_3bf4530d491d4bfe9a7b6645f9b89e1a%20%3D%20L.popup%28%7B%22maxWidth%22%3A%20%22100%25%22%7D%29%3B%0A%0A%20%20%20%20%20%20%20%20%0A%20%20%20%20%20%20%20%20%20%20%20%20var%20html_7aa7510684984b05b7812abada3a2325%20%3D%20%24%28%60%3Cdiv%20id%3D%22html_7aa7510684984b05b7812abada3a2325%22%20style%3D%22width%3A%20100.0%25%3B%20height%3A%20100.0%25%3B%22%3ERank%209%20in%20Busiest%20Subway%20Stations%20with%20a%20ridership%20of%207523538%20in%202020%3C/div%3E%60%29%5B0%5D%3B%0A%20%20%20%20%20%20%20%20%20%20%20%20popup_3bf4530d491d4bfe9a7b6645f9b89e1a.setContent%28html_7aa7510684984b05b7812abada3a2325%29%3B%0A%20%20%20%20%20%20%20%20%0A%0A%20%20%20%20%20%20%20%20marker_f75dbaeda91a476b98f09ef111d710f9.bindPopup%28popup_3bf4530d491d4bfe9a7b6645f9b89e1a%29%0A%20%20%20%20%20%20%20%20%3B%0A%0A%20%20%20%20%20%20%20%20%0A%20%20%20%20%0A%20%20%20%20%0A%20%20%20%20%20%20%20%20%20%20%20%20marker_f75dbaeda91a476b98f09ef111d710f9.bindTooltip%28%0A%20%20%20%20%20%20%20%20%20%20%20%20%20%20%20%20%60%3Cdiv%3E%0A%20%20%20%20%20%20%20%20%20%20%20%20%20%20%20%20%20%20%20%20%2074th%20Street%20-%20Broadway%20%28click%20for%20more%20info%29%0A%20%20%20%20%20%20%20%20%20%20%20%20%20%20%20%20%20%3C/div%3E%60%2C%0A%20%20%20%20%20%20%20%20%20%20%20%20%20%20%20%20%7B%22sticky%22%3A%20true%7D%0A%20%20%20%20%20%20%20%20%20%20%20%20%29%3B%0A%20%20%20%20%20%20%20%20%0A%20%20%20%20%0A%20%20%20%20%20%20%20%20%20%20%20%20var%20marker_ee0820fdcc7a4b82a93ba7a6e4dc5843%20%3D%20L.marker%28%0A%20%20%20%20%20%20%20%20%20%20%20%20%20%20%20%20%5B40.760289591950595%2C%20-73.82983626931413%5D%2C%0A%20%20%20%20%20%20%20%20%20%20%20%20%20%20%20%20%7B%7D%0A%20%20%20%20%20%20%20%20%20%20%20%20%29.addTo%28map_7e5a5ad7dc5a47f48cd4f7cc57064c6a%29%3B%0A%20%20%20%20%20%20%20%20%0A%20%20%20%20%0A%20%20%20%20%20%20%20%20var%20popup_9dd30ab82ba5453f9519e063deec34ed%20%3D%20L.popup%28%7B%22maxWidth%22%3A%20%22100%25%22%7D%29%3B%0A%0A%20%20%20%20%20%20%20%20%0A%20%20%20%20%20%20%20%20%20%20%20%20var%20html_403610029762404aaf25d9ae3fbdcf39%20%3D%20%24%28%60%3Cdiv%20id%3D%22html_403610029762404aaf25d9ae3fbdcf39%22%20style%3D%22width%3A%20100.0%25%3B%20height%3A%20100.0%25%3B%22%3ERank%2010%20in%20Busiest%20Subway%20Stations%20with%20a%20ridership%20of%206944923%20in%202020%3C/div%3E%60%29%5B0%5D%3B%0A%20%20%20%20%20%20%20%20%20%20%20%20popup_9dd30ab82ba5453f9519e063deec34ed.setContent%28html_403610029762404aaf25d9ae3fbdcf39%29%3B%0A%20%20%20%20%20%20%20%20%0A%0A%20%20%20%20%20%20%20%20marker_ee0820fdcc7a4b82a93ba7a6e4dc5843.bindPopup%28popup_9dd30ab82ba5453f9519e063deec34ed%29%0A%20%20%20%20%20%20%20%20%3B%0A%0A%20%20%20%20%20%20%20%20%0A%20%20%20%20%0A%20%20%20%20%0A%20%20%20%20%20%20%20%20%20%20%20%20marker_ee0820fdcc7a4b82a93ba7a6e4dc5843.bindTooltip%28%0A%20%20%20%20%20%20%20%20%20%20%20%20%20%20%20%20%60%3Cdiv%3E%0A%20%20%20%20%20%20%20%20%20%20%20%20%20%20%20%20%20%20%20%20%20Flushing%20-%20Main%20Street%20%28click%20for%20more%20info%29%0A%20%20%20%20%20%20%20%20%20%20%20%20%20%20%20%20%20%3C/div%3E%60%2C%0A%20%20%20%20%20%20%20%20%20%20%20%20%20%20%20%20%7B%22sticky%22%3A%20true%7D%0A%20%20%20%20%20%20%20%20%20%20%20%20%29%3B%0A%20%20%20%20%20%20%20%20%0A%3C/script%3E onload=\"this.contentDocument.open();this.contentDocument.write(    decodeURIComponent(this.getAttribute('data-html')));this.contentDocument.close();\" allowfullscreen webkitallowfullscreen mozallowfullscreen></iframe></div></div>"
      ],
      "text/plain": [
       "<folium.folium.Map at 0x7fe0a174f9a0>"
      ]
     },
     "execution_count": 23,
     "metadata": {},
     "output_type": "execute_result"
    }
   ],
   "source": [
    "for i in range(10):\n",
    "    folium.Marker(location = [latitudes[i], longitudes[i]],\n",
    "                 tooltip = subway_station_names[i] + ' (click for more info)',\n",
    "                 popup = (\"Rank \" + str(ranks[i]) + \" in Busiest Subway Stations with a ridership of \"\n",
    "                         + str(subway_ridership_numbers[i]) + \" in 2020\")).add_to(m)\n",
    "    \n",
    "m"
   ]
  },
  {
   "cell_type": "code",
   "execution_count": 26,
   "id": "d05ee2d9",
   "metadata": {},
   "outputs": [],
   "source": [
    "m.save('index.html')"
   ]
  },
  {
   "cell_type": "code",
   "execution_count": null,
   "id": "8b454e77",
   "metadata": {},
   "outputs": [],
   "source": []
  }
 ],
 "metadata": {
  "kernelspec": {
   "display_name": "Python 3",
   "language": "python",
   "name": "python3"
  },
  "language_info": {
   "codemirror_mode": {
    "name": "ipython",
    "version": 3
   },
   "file_extension": ".py",
   "mimetype": "text/x-python",
   "name": "python",
   "nbconvert_exporter": "python",
   "pygments_lexer": "ipython3",
   "version": "3.8.8"
  }
 },
 "nbformat": 4,
 "nbformat_minor": 5
}
